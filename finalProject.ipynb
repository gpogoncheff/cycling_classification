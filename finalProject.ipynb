{
 "cells": [
  {
   "cell_type": "markdown",
   "metadata": {},
   "source": [
    "# INFO-4604 Final Project\n",
    "#### By Albert Dayn and Galen Pogoncheff"
   ]
  },
  {
   "cell_type": "code",
   "execution_count": 2,
   "metadata": {},
   "outputs": [],
   "source": [
    "import pandas as pd\n",
    "import numpy as np\n",
    "from sklearn.linear_model import SGDClassifier\n",
    "from sklearn.ensemble import RandomForestClassifier\n",
    "from sklearn.neural_network import MLPClassifier\n",
    "from sklearn.model_selection import GridSearchCV, cross_val_predict\n",
    "from sklearn.metrics import accuracy_score\n",
    "from sklearn.decomposition import PCA\n",
    "from sklearn.metrics import confusion_matrix\n",
    "from sklearn.learning_curve import learning_curve\n",
    "import matplotlib.pylab as plt \n",
    "%matplotlib inline\n",
    "import warnings\n",
    "warnings.filterwarnings('ignore')"
   ]
  },
  {
   "cell_type": "markdown",
   "metadata": {},
   "source": [
    "## Introduction"
   ]
  },
  {
   "cell_type": "markdown",
   "metadata": {},
   "source": [
    "$\\quad$ For our project, we decided to apply machine learning to a bicycling dataset.  This data set is composed of statistical data (such as total distance, elevation gain, average speed, etc.) regarding individual bicycle rides that Galen has completed over the past year.  This data was obtained with a garmin gps computer.  The data set is composed of 108 bicycle rides in total, 48 of which were mountain bike rides and 60 road bike rides.  Each instance of the data set is a single bicycle ride, with the ride statistics as features.  Our goal for this final project was to build a machine learning model to classify a bicycle ride as either a mountain bike ride or a road bike ride."
   ]
  },
  {
   "cell_type": "markdown",
   "metadata": {},
   "source": [
    "## Data Preprocessing"
   ]
  },
  {
   "cell_type": "markdown",
   "metadata": {},
   "source": [
    "$\\quad$ Extracting our dataset from the garmin device was straightforward.  After uploading the data from the Garmin GPS unit to Garmin's own web application, we were able to export all of the data to a csv file.  A subset of the csv file is shown below:"
   ]
  },
  {
   "cell_type": "code",
   "execution_count": 3,
   "metadata": {},
   "outputs": [
    {
     "data": {
      "text/html": [
       "<div>\n",
       "<style>\n",
       "    .dataframe thead tr:only-child th {\n",
       "        text-align: right;\n",
       "    }\n",
       "\n",
       "    .dataframe thead th {\n",
       "        text-align: left;\n",
       "    }\n",
       "\n",
       "    .dataframe tbody tr th {\n",
       "        vertical-align: top;\n",
       "    }\n",
       "</style>\n",
       "<table border=\"1\" class=\"dataframe\">\n",
       "  <thead>\n",
       "    <tr style=\"text-align: right;\">\n",
       "      <th></th>\n",
       "      <th>Activity Type</th>\n",
       "      <th>Date</th>\n",
       "      <th>Favorite</th>\n",
       "      <th>Title</th>\n",
       "      <th>Distance</th>\n",
       "      <th>Calories</th>\n",
       "      <th>Time</th>\n",
       "      <th>Avg HR</th>\n",
       "      <th>Max HR</th>\n",
       "      <th>Aerobic TE</th>\n",
       "      <th>...</th>\n",
       "      <th>Max Depth</th>\n",
       "      <th>Bottom Time</th>\n",
       "      <th>Min Water Temp</th>\n",
       "      <th>Gas Type</th>\n",
       "      <th>Surface Interval</th>\n",
       "      <th>Weight</th>\n",
       "      <th>Current</th>\n",
       "      <th>Surface Conditions</th>\n",
       "      <th>Decompression</th>\n",
       "      <th>Water Type</th>\n",
       "    </tr>\n",
       "  </thead>\n",
       "  <tbody>\n",
       "    <tr>\n",
       "      <th>0</th>\n",
       "      <td>cycling</td>\n",
       "      <td>10/25/17 7:42</td>\n",
       "      <td>False</td>\n",
       "      <td>Boulder Cycling</td>\n",
       "      <td>13.06</td>\n",
       "      <td>534</td>\n",
       "      <td>59:00:00</td>\n",
       "      <td>--</td>\n",
       "      <td>--</td>\n",
       "      <td>0</td>\n",
       "      <td>...</td>\n",
       "      <td>--</td>\n",
       "      <td>0:00</td>\n",
       "      <td>0</td>\n",
       "      <td>--</td>\n",
       "      <td>0:00</td>\n",
       "      <td>--</td>\n",
       "      <td>--</td>\n",
       "      <td>--</td>\n",
       "      <td>No</td>\n",
       "      <td>--</td>\n",
       "    </tr>\n",
       "    <tr>\n",
       "      <th>1</th>\n",
       "      <td>cycling</td>\n",
       "      <td>10/21/17 16:04</td>\n",
       "      <td>False</td>\n",
       "      <td>Boulder Cycling</td>\n",
       "      <td>13.89</td>\n",
       "      <td>571</td>\n",
       "      <td>1:01:56</td>\n",
       "      <td>--</td>\n",
       "      <td>--</td>\n",
       "      <td>0</td>\n",
       "      <td>...</td>\n",
       "      <td>--</td>\n",
       "      <td>0:00</td>\n",
       "      <td>0</td>\n",
       "      <td>--</td>\n",
       "      <td>0:00</td>\n",
       "      <td>--</td>\n",
       "      <td>--</td>\n",
       "      <td>--</td>\n",
       "      <td>No</td>\n",
       "      <td>--</td>\n",
       "    </tr>\n",
       "    <tr>\n",
       "      <th>2</th>\n",
       "      <td>cycling</td>\n",
       "      <td>10/15/17 15:10</td>\n",
       "      <td>False</td>\n",
       "      <td>Boulder Cycling</td>\n",
       "      <td>15.29</td>\n",
       "      <td>640</td>\n",
       "      <td>1:09:50</td>\n",
       "      <td>--</td>\n",
       "      <td>--</td>\n",
       "      <td>0</td>\n",
       "      <td>...</td>\n",
       "      <td>--</td>\n",
       "      <td>0:00</td>\n",
       "      <td>0</td>\n",
       "      <td>--</td>\n",
       "      <td>0:00</td>\n",
       "      <td>--</td>\n",
       "      <td>--</td>\n",
       "      <td>--</td>\n",
       "      <td>No</td>\n",
       "      <td>--</td>\n",
       "    </tr>\n",
       "    <tr>\n",
       "      <th>3</th>\n",
       "      <td>cycling</td>\n",
       "      <td>10/8/17 16:29</td>\n",
       "      <td>False</td>\n",
       "      <td>Boulder Cycling</td>\n",
       "      <td>14.51</td>\n",
       "      <td>610</td>\n",
       "      <td>1:05:43</td>\n",
       "      <td>--</td>\n",
       "      <td>--</td>\n",
       "      <td>0</td>\n",
       "      <td>...</td>\n",
       "      <td>--</td>\n",
       "      <td>0:00</td>\n",
       "      <td>0</td>\n",
       "      <td>--</td>\n",
       "      <td>0:00</td>\n",
       "      <td>--</td>\n",
       "      <td>--</td>\n",
       "      <td>--</td>\n",
       "      <td>No</td>\n",
       "      <td>--</td>\n",
       "    </tr>\n",
       "    <tr>\n",
       "      <th>4</th>\n",
       "      <td>cycling</td>\n",
       "      <td>9/15/17 7:45</td>\n",
       "      <td>False</td>\n",
       "      <td>Boulder Cycling</td>\n",
       "      <td>21.34</td>\n",
       "      <td>841</td>\n",
       "      <td>1:43:18</td>\n",
       "      <td>--</td>\n",
       "      <td>--</td>\n",
       "      <td>0</td>\n",
       "      <td>...</td>\n",
       "      <td>--</td>\n",
       "      <td>0:00</td>\n",
       "      <td>0</td>\n",
       "      <td>--</td>\n",
       "      <td>0:00</td>\n",
       "      <td>--</td>\n",
       "      <td>--</td>\n",
       "      <td>--</td>\n",
       "      <td>No</td>\n",
       "      <td>--</td>\n",
       "    </tr>\n",
       "  </tbody>\n",
       "</table>\n",
       "<p>5 rows × 42 columns</p>\n",
       "</div>"
      ],
      "text/plain": [
       "  Activity Type            Date  Favorite            Title  Distance Calories  \\\n",
       "0       cycling   10/25/17 7:42     False  Boulder Cycling     13.06      534   \n",
       "1       cycling  10/21/17 16:04     False  Boulder Cycling     13.89      571   \n",
       "2       cycling  10/15/17 15:10     False  Boulder Cycling     15.29      640   \n",
       "3       cycling   10/8/17 16:29     False  Boulder Cycling     14.51      610   \n",
       "4       cycling    9/15/17 7:45     False  Boulder Cycling     21.34      841   \n",
       "\n",
       "       Time Avg HR Max HR  Aerobic TE    ...     Max Depth Bottom Time  \\\n",
       "0  59:00:00     --     --           0    ...            --        0:00   \n",
       "1   1:01:56     --     --           0    ...            --        0:00   \n",
       "2   1:09:50     --     --           0    ...            --        0:00   \n",
       "3   1:05:43     --     --           0    ...            --        0:00   \n",
       "4   1:43:18     --     --           0    ...            --        0:00   \n",
       "\n",
       "   Min Water Temp Gas Type Surface Interval Weight  Current  \\\n",
       "0               0       --             0:00     --       --   \n",
       "1               0       --             0:00     --       --   \n",
       "2               0       --             0:00     --       --   \n",
       "3               0       --             0:00     --       --   \n",
       "4               0       --             0:00     --       --   \n",
       "\n",
       "   Surface Conditions  Decompression Water Type  \n",
       "0                  --             No         --  \n",
       "1                  --             No         --  \n",
       "2                  --             No         --  \n",
       "3                  --             No         --  \n",
       "4                  --             No         --  \n",
       "\n",
       "[5 rows x 42 columns]"
      ]
     },
     "execution_count": 3,
     "metadata": {},
     "output_type": "execute_result"
    }
   ],
   "source": [
    "dfRawData = pd.read_csv('./rawData.csv', encoding='latin1')\n",
    "dfRawData.head()"
   ]
  },
  {
   "cell_type": "markdown",
   "metadata": {},
   "source": [
    "$\\quad$ The first step we took in the data preprocessing phase was annotating the data, making each ride instance as a mountain bike ride or a road bike ride.  This annotation performed by looking at the mapped route (on Garmin's web UI) for each ride instance, and determining if it was a mountain or road bike ride based off of the route of that instance.  As we are very familiar with these routes, this was a direct approach to obtain accurate annotations for each instance.  Class labels were assigned as 1 if the ride was a mountain bike ride, and 0 if it was a road bike ride.<br>\n",
    "$\\quad$ Following the data annotation phase we performed some initial feature selection.  We removed features from  our data were insignificant (for example, the 'Activity Type' feauture had a category value of 'cycling' for every feature, the 'Date' feature would be invaluable for predicting new data, and the 'Title' feature (which denoted the ride location) would not be useful in the classification of bike rides in new locations that have been unseen by the classifier) or had empty values for most if not all features.  The following dataframe shows a subset of the dataset after data annotation and an initial pass of feature selection were performed:"
   ]
  },
  {
   "cell_type": "code",
   "execution_count": 4,
   "metadata": {},
   "outputs": [
    {
     "data": {
      "text/html": [
       "<div>\n",
       "<style>\n",
       "    .dataframe thead tr:only-child th {\n",
       "        text-align: right;\n",
       "    }\n",
       "\n",
       "    .dataframe thead th {\n",
       "        text-align: left;\n",
       "    }\n",
       "\n",
       "    .dataframe tbody tr th {\n",
       "        vertical-align: top;\n",
       "    }\n",
       "</style>\n",
       "<table border=\"1\" class=\"dataframe\">\n",
       "  <thead>\n",
       "    <tr style=\"text-align: right;\">\n",
       "      <th></th>\n",
       "      <th>Distance</th>\n",
       "      <th>Calories</th>\n",
       "      <th>Time</th>\n",
       "      <th>Avg Speed</th>\n",
       "      <th>Max Speed</th>\n",
       "      <th>Elev Gain</th>\n",
       "      <th>Elev Loss</th>\n",
       "      <th>isMountainBiking</th>\n",
       "    </tr>\n",
       "  </thead>\n",
       "  <tbody>\n",
       "    <tr>\n",
       "      <th>0</th>\n",
       "      <td>13.06</td>\n",
       "      <td>534</td>\n",
       "      <td>59:00:00</td>\n",
       "      <td>13.3</td>\n",
       "      <td>26.4</td>\n",
       "      <td>1,106</td>\n",
       "      <td>1,109</td>\n",
       "      <td>1</td>\n",
       "    </tr>\n",
       "    <tr>\n",
       "      <th>1</th>\n",
       "      <td>13.89</td>\n",
       "      <td>571</td>\n",
       "      <td>1:01:56</td>\n",
       "      <td>13.5</td>\n",
       "      <td>25.6</td>\n",
       "      <td>1,293</td>\n",
       "      <td>1,259</td>\n",
       "      <td>1</td>\n",
       "    </tr>\n",
       "    <tr>\n",
       "      <th>2</th>\n",
       "      <td>15.29</td>\n",
       "      <td>640</td>\n",
       "      <td>1:09:50</td>\n",
       "      <td>13.1</td>\n",
       "      <td>30</td>\n",
       "      <td>1,542</td>\n",
       "      <td>1,547</td>\n",
       "      <td>1</td>\n",
       "    </tr>\n",
       "    <tr>\n",
       "      <th>3</th>\n",
       "      <td>14.51</td>\n",
       "      <td>610</td>\n",
       "      <td>1:05:43</td>\n",
       "      <td>13.2</td>\n",
       "      <td>28.8</td>\n",
       "      <td>1,534</td>\n",
       "      <td>1,503</td>\n",
       "      <td>1</td>\n",
       "    </tr>\n",
       "    <tr>\n",
       "      <th>4</th>\n",
       "      <td>21.34</td>\n",
       "      <td>841</td>\n",
       "      <td>1:43:18</td>\n",
       "      <td>12.4</td>\n",
       "      <td>30.2</td>\n",
       "      <td>3,146</td>\n",
       "      <td>3,128</td>\n",
       "      <td>1</td>\n",
       "    </tr>\n",
       "  </tbody>\n",
       "</table>\n",
       "</div>"
      ],
      "text/plain": [
       "   Distance Calories      Time  Avg Speed Max Speed Elev Gain Elev Loss  \\\n",
       "0     13.06      534  59:00:00       13.3      26.4     1,106     1,109   \n",
       "1     13.89      571   1:01:56       13.5      25.6     1,293     1,259   \n",
       "2     15.29      640   1:09:50       13.1        30     1,542     1,547   \n",
       "3     14.51      610   1:05:43       13.2      28.8     1,534     1,503   \n",
       "4     21.34      841   1:43:18       12.4      30.2     3,146     3,128   \n",
       "\n",
       "   isMountainBiking  \n",
       "0                 1  \n",
       "1                 1  \n",
       "2                 1  \n",
       "3                 1  \n",
       "4                 1  "
      ]
     },
     "execution_count": 4,
     "metadata": {},
     "output_type": "execute_result"
    }
   ],
   "source": [
    "pd.read_csv('./garminData_annotated.csv').head()"
   ]
  },
  {
   "cell_type": "markdown",
   "metadata": {},
   "source": [
    "$\\quad$ In the dataset, there were two instances that missing values for the 'Calories' feature.  Since there were so few instances with missing data, we decided that it was in our best interest to drop the instances from the dataset as opposed to imptuting the missing values.<br>\n",
    "$\\quad$ The final data preprocessing actions that we had to perform involved converting the 'Time' feature to a value that could be used in a machine learning algorithm and removing the commas from the 'Elev Gain' and 'Elev Loss' features so that they would be interpreted as numbers instead of strings. A subset of our final preprocessed dataset is provided below:"
   ]
  },
  {
   "cell_type": "code",
   "execution_count": 5,
   "metadata": {},
   "outputs": [
    {
     "data": {
      "text/html": [
       "<div>\n",
       "<style>\n",
       "    .dataframe thead tr:only-child th {\n",
       "        text-align: right;\n",
       "    }\n",
       "\n",
       "    .dataframe thead th {\n",
       "        text-align: left;\n",
       "    }\n",
       "\n",
       "    .dataframe tbody tr th {\n",
       "        vertical-align: top;\n",
       "    }\n",
       "</style>\n",
       "<table border=\"1\" class=\"dataframe\">\n",
       "  <thead>\n",
       "    <tr style=\"text-align: right;\">\n",
       "      <th></th>\n",
       "      <th>Distance (Miles)</th>\n",
       "      <th>Calories</th>\n",
       "      <th>Time (minutes)</th>\n",
       "      <th>Avg Speed</th>\n",
       "      <th>Max Speed</th>\n",
       "      <th>Elev Gain</th>\n",
       "      <th>Elev Loss</th>\n",
       "      <th>isMountainBiking</th>\n",
       "    </tr>\n",
       "  </thead>\n",
       "  <tbody>\n",
       "    <tr>\n",
       "      <th>0</th>\n",
       "      <td>13.06</td>\n",
       "      <td>534.0</td>\n",
       "      <td>59.000</td>\n",
       "      <td>13.3</td>\n",
       "      <td>26.4</td>\n",
       "      <td>1106.0</td>\n",
       "      <td>1109.0</td>\n",
       "      <td>1</td>\n",
       "    </tr>\n",
       "    <tr>\n",
       "      <th>1</th>\n",
       "      <td>13.89</td>\n",
       "      <td>571.0</td>\n",
       "      <td>61.933</td>\n",
       "      <td>13.5</td>\n",
       "      <td>25.6</td>\n",
       "      <td>1293.0</td>\n",
       "      <td>1259.0</td>\n",
       "      <td>1</td>\n",
       "    </tr>\n",
       "    <tr>\n",
       "      <th>2</th>\n",
       "      <td>15.29</td>\n",
       "      <td>640.0</td>\n",
       "      <td>69.833</td>\n",
       "      <td>13.1</td>\n",
       "      <td>30.0</td>\n",
       "      <td>1542.0</td>\n",
       "      <td>1547.0</td>\n",
       "      <td>1</td>\n",
       "    </tr>\n",
       "    <tr>\n",
       "      <th>3</th>\n",
       "      <td>14.51</td>\n",
       "      <td>610.0</td>\n",
       "      <td>65.717</td>\n",
       "      <td>13.2</td>\n",
       "      <td>28.8</td>\n",
       "      <td>1534.0</td>\n",
       "      <td>1503.0</td>\n",
       "      <td>1</td>\n",
       "    </tr>\n",
       "    <tr>\n",
       "      <th>4</th>\n",
       "      <td>21.34</td>\n",
       "      <td>841.0</td>\n",
       "      <td>103.300</td>\n",
       "      <td>12.4</td>\n",
       "      <td>30.2</td>\n",
       "      <td>3146.0</td>\n",
       "      <td>3128.0</td>\n",
       "      <td>1</td>\n",
       "    </tr>\n",
       "  </tbody>\n",
       "</table>\n",
       "</div>"
      ],
      "text/plain": [
       "   Distance (Miles)  Calories  Time (minutes)  Avg Speed  Max Speed  \\\n",
       "0             13.06     534.0          59.000       13.3       26.4   \n",
       "1             13.89     571.0          61.933       13.5       25.6   \n",
       "2             15.29     640.0          69.833       13.1       30.0   \n",
       "3             14.51     610.0          65.717       13.2       28.8   \n",
       "4             21.34     841.0         103.300       12.4       30.2   \n",
       "\n",
       "   Elev Gain  Elev Loss  isMountainBiking  \n",
       "0     1106.0     1109.0                 1  \n",
       "1     1293.0     1259.0                 1  \n",
       "2     1542.0     1547.0                 1  \n",
       "3     1534.0     1503.0                 1  \n",
       "4     3146.0     3128.0                 1  "
      ]
     },
     "execution_count": 5,
     "metadata": {},
     "output_type": "execute_result"
    }
   ],
   "source": [
    "pd.read_csv('./garminDataFinal.csv').head()"
   ]
  },
  {
   "cell_type": "markdown",
   "metadata": {},
   "source": [
    "## Model Selection"
   ]
  },
  {
   "cell_type": "markdown",
   "metadata": {},
   "source": [
    "$\\quad$ In selecting the classifier that we would ultimately choose for our finalized model, we decided to experimented with one linear classifier, one non-liner ensemble classifier, and a neural network classifier.  The specific classifers that we chose to experiment with for each of these categories of classifiers were a logistic regression classifier, a random forest classifier, and a multilayer perceptron classifier, respectively.<br>\n",
    "$\\quad$ Prior to experimenting with these classifier, we divided our dataset into a training dataset and a testing dataset.  A testing dataset was formed by removing 20% of the instances, at random, from the original dataset.  The traing dataset we used was therefore the remaining 80% of the instances."
   ]
  },
  {
   "cell_type": "code",
   "execution_count": 5,
   "metadata": {
    "collapsed": true
   },
   "outputs": [],
   "source": [
    "dfData = pd.read_csv('./garminDataFinal.csv')\n",
    "\n",
    "# select a random sample of data for testing\n",
    "dfTest = dfData.sample(frac=0.2, replace=False, random_state=123)\n",
    "\n",
    "# remove test data from original data to form the training dataset\n",
    "dfTrain = dfData.drop(dfTest.index)"
   ]
  },
  {
   "cell_type": "code",
   "execution_count": 6,
   "metadata": {
    "collapsed": true
   },
   "outputs": [],
   "source": [
    "# separating features from labels in the training dataset\n",
    "x_train = dfTrain.iloc[0:, 0:7].values\n",
    "y_train = dfTrain.iloc[0:, 7].values\n",
    "\n",
    "# separating features from labels in the test dataset\n",
    "x_test = dfTest.iloc[0:, 0:7].values\n",
    "y_test = dfTest.iloc[0:, 7].values"
   ]
  },
  {
   "cell_type": "markdown",
   "metadata": {},
   "source": [
    "### Experimenting with Logistic Regression"
   ]
  },
  {
   "cell_type": "markdown",
   "metadata": {},
   "source": [
    "$\\quad$ Our first classifier experimentation was done with a logistic regression classifier.  We tuned out model by finding an optimal value for  the regularization strength term, alpha.  Multiple values of alpha (0.0001, 0.001, 0.01, 0.1, 1.0, 10.0, 100.0) were evaluated by doing a grid search over these hyperparameter values.  We also experimented with dimensionality reduction by means of Priniple Component Analysis (PCA).  Tuning our classifier with various values of alpha and components of PCA in the (range 1-7) involved finding the optimal value for alpha for each value of number of components in PCA.  In order to obtain robust estimates of accuracy on our held out test data set, we performed model selection in the context of 5-fold cross validation. The code for our logistic regression classifier and results of this experimentation are below:"
   ]
  },
  {
   "cell_type": "code",
   "execution_count": 51,
   "metadata": {},
   "outputs": [
    {
     "name": "stdout",
     "output_type": "stream",
     "text": [
      "| Number of Components |   Alpha   | Validation Accuracy |\n",
      "|----------------------|-----------|---------------------|\n",
      "|          1           |   0.001   | 0.5294117647058824  |\n",
      "|          2           |   100.0   |         0.8         |\n",
      "|          3           |   100.0   | 0.7294117647058823  |\n",
      "|          4           |   0.01    | 0.7411764705882353  |\n",
      "|          5           |   0.01    | 0.7647058823529411  |\n",
      "|          6           |   0.01    | 0.7647058823529411  |\n",
      "|          7           |   0.01    | 0.7647058823529411  |\n",
      "|        No PCA        |   0.01    | 0.7176470588235294  |\n"
     ]
    }
   ],
   "source": [
    "base_classifier = SGDClassifier(loss='log', max_iter=1000, tol=1.0e-12, random_state=123)\n",
    "\n",
    "params = [{'alpha': [0.0001, 0.001, 0.01, 0.1, 1.0, 10.0, 100.0]}]\n",
    "\n",
    "# performs 5-fold cross-validation with a logistic regression classifier, doing a grid search over alpha\n",
    "gs_classifier = GridSearchCV(base_classifier, params, cv=5)\n",
    "\n",
    "# number of axes for principle component analysis\n",
    "numComponents = np.arange(1,8)\n",
    "\n",
    "validationAccuracies = []\n",
    "\n",
    "print(\"| Number of Components |   Alpha   | Validation Accuracy |\")\n",
    "print(\"|----------------------|-----------|---------------------|\")\n",
    "for n in numComponents:\n",
    "    pca = PCA(n_components=n, random_state=123)\n",
    "    x_train_final = pca.fit_transform(x_train)\n",
    "    x_test_final = pca.transform(x_test)\n",
    "    gs_classifier.fit(x_train_final, y_train)\n",
    "    validAcc = gs_classifier.best_score_\n",
    "    validationAccuracies.append(validAcc)\n",
    "    print(\"|{:^22}|{:^11}|{:^21}|\".format(n, gs_classifier.best_params_['alpha'], validAcc))\n",
    "    \n",
    "# Classifier without PCA\n",
    "gs_classifier.fit(x_train, y_train)\n",
    "validAcc_noPCA = gs_classifier.best_score_\n",
    "print(\"|{:^22}|{:^11}|{:^21}|\".format('No PCA', gs_classifier.best_params_['alpha'], validAcc_noPCA))"
   ]
  },
  {
   "cell_type": "code",
   "execution_count": 52,
   "metadata": {},
   "outputs": [
    {
     "data": {
      "image/png": "[encoded data removed]",
      "text/plain": [
       "<matplotlib.figure.Figure at 0x1147bb780>"
      ]
     },
     "metadata": {},
     "output_type": "display_data"
    }
   ],
   "source": [
    "fig, ax = plt.subplots(nrows=1, ncols=1, figsize=(8,5))\n",
    "ax.plot(numComponents, validationAccuracies, color=\"steelblue\", marker='o', label='Validation Accuracy with PCA')\n",
    "ax.plot([0, 8], [validAcc_noPCA, validAcc_noPCA], color=\"firebrick\", label='Validation accuracy with no dimensionality reduction')\n",
    "ax.set_xlim([0.5,7.5])\n",
    "ax.grid(alpha=0.25)\n",
    "ax.set_xlabel(\"Number of Components in PCA\", fontsize=16)\n",
    "ax.set_ylabel(\"Logistic Regression Classifier Accuracy\", fontsize=16)\n",
    "ax.set_title(\"Classifier Accuracy vs. Number of Components\", fontsize=20)\n",
    "ax.legend(loc='lower right');"
   ]
  },
  {
   "cell_type": "markdown",
   "metadata": {},
   "source": [
    "In the table below, we show the best hyperparameter settings and validation accuracies that were found during 5-fold cross validation for each number of components used in principle components analysis:\n",
    "\n",
    "| Number of Components |   Alpha   | Validation Accuracy |\n",
    "|----------------------|-----------|---------------------|\n",
    "|          1           |   0.001   | 0.5294117647058824  |\n",
    "|          2           |   100.0   |         0.8         |\n",
    "|          3           |   100.0   | 0.7294117647058823  |\n",
    "|          4           |   0.01    | 0.7411764705882353  |\n",
    "|          5           |   0.01    | 0.7647058823529411  |\n",
    "|          6           |   0.01    | 0.7647058823529411  |\n",
    "|          7           |   0.01    | 0.7647058823529411  |\n",
    "|        No PCA        |   0.01    | 0.7176470588235294  |\n",
    "\n",
    "As apparent in the table above, the best validation accuracy that we achieved with a logistic regression classifier was when we used 2 principle components in PCA and a regularization strength (alpha) of 100.0.  These parameter settings yielded a validation accuracy of 0.80.  We were not surprised to find that the classifier was able to perform well with a small number of components, considering that some of the original features of our dataset are highly correlated (for example, values for the 'Avg Speed' feature are the exact values that would be obtained by dividing the 'Distance' feature by the 'Time' feature).  What did surprise us though was the best setting for the regularization strength, alpha.  Alpha=100.0 is a very large regularization strength, which would result in a model with higher bias.<br><br>"
   ]
  },
  {
   "cell_type": "markdown",
   "metadata": {},
   "source": [
    "### Random Forest Classifier"
   ]
  },
  {
   "cell_type": "markdown",
   "metadata": {},
   "source": [
    "$\\quad$ Next, we analyzed the performance of a random forest classifier on our training data set.  The hyperparameters that we tuned for this classifier were the number of trees in the random forest, the maximum depth of the trees in the forest, and the minimum number of samples at a leaf in each tree.  We chose to tune theses parameters so that we would be able to directly tune the bias/variance tradeoff by adjusting variance in the individual trees (by means of limiting the tree depth and restricting when more subtrees can be formed) and by adjusting the number of trees in the ensemble (recalling that random forests have the classification strengths of a decision tree without the overfitting properties).  These hyperparameters where tuned by doing a gridsearch on a specified set of setting (denoted by the `params` variable in the code below).  Similar to the methodology used while experimenting with the logistic regression classifier, we used PCA on our feature set (with number of components in range 1-7) and obtained validation accuracies by means of 5-fold cross validation.  Code for this random forest classifier and the associated results are provided below:"
   ]
  },
  {
   "cell_type": "code",
   "execution_count": 53,
   "metadata": {},
   "outputs": [
    {
     "name": "stdout",
     "output_type": "stream",
     "text": [
      "|Number of Components| Number of Trees | Maximum Depth of Trees | Min Samples at Tree Leaves | Validation Accuracy |\n",
      "|--------------------|-----------------|------------------------|----------------------------|---------------------|\n",
      "|         1          |       10        |           1            |             1              |  0.611764705882353  |\n",
      "|         2          |       100       |           5            |             10             | 0.8705882352941177  |\n",
      "|         3          |       10        |           5            |             10             | 0.8705882352941177  |\n",
      "|         4          |       50        |           1            |             1              | 0.8588235294117647  |\n",
      "|         5          |       50        |           1            |             10             | 0.8941176470588236  |\n",
      "|         6          |       100       |           1            |             1              | 0.8823529411764706  |\n",
      "|         7          |       50        |           1            |             1              | 0.8941176470588236  |\n",
      "|       No PCA       |       10        |           5            |             1              | 0.9058823529411765  |\n"
     ]
    }
   ],
   "source": [
    "base_classifier = RandomForestClassifier(random_state=123)\n",
    "\n",
    "params = [{'n_estimators': [10, 50, 100], 'max_depth': [1, 5, 10], 'min_samples_leaf': [1, 5, 10]}]\n",
    "\n",
    "# this performs 5-fold cross-validation with the above classifier and parameter options\n",
    "gs_classifier = GridSearchCV(base_classifier, params, cv=5)\n",
    "\n",
    "# number of axes for principle component analysis\n",
    "numComponents = np.arange(1,8)\n",
    "\n",
    "validationAccuracies = []\n",
    "testAccuracies = []\n",
    "\n",
    "print(\"|Number of Components| Number of Trees | Maximum Depth of Trees | Min Samples at Tree Leaves | Validation Accuracy |\")\n",
    "print(\"|--------------------|-----------------|------------------------|----------------------------|---------------------|\")\n",
    "for n in numComponents:\n",
    "    pca = PCA(n_components=n, random_state=123)\n",
    "    x_train_final = pca.fit_transform(x_train)\n",
    "    gs_classifier.fit(x_train_final, y_train)\n",
    "    validAcc = gs_classifier.best_score_\n",
    "    validationAccuracies.append(validAcc)\n",
    "    params = gs_classifier.best_params_\n",
    "    print(\"|{:^20}|{:^17}|{:^24}|{:^28}|{:^21}|\".format(n, params['n_estimators'], params['max_depth'], params['min_samples_leaf'], validAcc))\n",
    "    \n",
    "# Classifier without PCA\n",
    "gs_classifier.fit(x_train, y_train)\n",
    "validAcc_noPCA = gs_classifier.best_score_\n",
    "params = gs_classifier.best_params_\n",
    "print(\"|{:^20}|{:^17}|{:^24}|{:^28}|{:^21}|\".format('No PCA', params['n_estimators'], params['max_depth'], params['min_samples_leaf'], validAcc_noPCA))\n"
   ]
  },
  {
   "cell_type": "code",
   "execution_count": 54,
   "metadata": {
    "scrolled": true
   },
   "outputs": [
    {
     "data": {
      "image/png": "[encoded data removed]",
      "text/plain": [
       "<matplotlib.figure.Figure at 0x1147bbd30>"
      ]
     },
     "metadata": {},
     "output_type": "display_data"
    }
   ],
   "source": [
    "fig, ax = plt.subplots(nrows=1, ncols=1, figsize=(8,5))\n",
    "ax.plot(numComponents, validationAccuracies, color=\"steelblue\", marker='o', label='Validation Accuracy')\n",
    "ax.plot([0, 8], [validAcc_noPCA, validAcc_noPCA], color=\"firebrick\", label='Validation accuracy with no dimensionality reduction')\n",
    "ax.set_xlim([0.5,7.5])\n",
    "ax.grid(alpha=0.25)\n",
    "ax.set_xlabel(\"Number of Components in PCA\", fontsize=16)\n",
    "ax.set_ylabel(\"Random Forest Classifier Accuracy\", fontsize=16)\n",
    "ax.set_title(\"Classifier Accuracy vs. Number of Components\", fontsize=20)\n",
    "ax.legend(loc='lower right');"
   ]
  },
  {
   "cell_type": "markdown",
   "metadata": {},
   "source": [
    "The best hyperparameter settings and validation accuracies that were found during 5-fold cross validation for each number of components used in principle components analysis are shown below:\n",
    " \n",
    " |Number of Components| Number of Trees | Maximum Depth of Trees | Min Samples at Tree Leaves | Validation Accuracy |\n",
    "|--------------------|-----------------|------------------------|----------------------------|---------------------|\n",
    "|         1          |       10        |           1            |             1              |  0.611764705882353  |\n",
    "|         2          |       100       |           5            |             10             | 0.8705882352941177  |\n",
    "|         3          |       10        |           5            |             10             | 0.8705882352941177  |\n",
    "|         4          |       50        |           1            |             1              | 0.8588235294117647  |\n",
    "|         5          |       50        |           1            |             10             | 0.8941176470588236  |\n",
    "|         6          |       100       |           1            |             1              | 0.8823529411764706  |\n",
    "|         7          |       50        |           1            |             1              | 0.8941176470588236  |\n",
    "|       No PCA       |       10        |           5            |             1              | 0.9058823529411765  |\n",
    " \n",
    "The best validation accuracy that we achieved with a random forest classifier was when we used our original feature set for training (no dimensionality reduction), 10 decision trees in the ensemble, a maximum decision tree depth of 5, and 1 for the minimum number of samples at the decision tree leaves.  These hyperparameter settings yielded a validation accuracy of 0.9059.  By having the minimum number of sample at the leaves of decision tree be 1 and a maximum depth of 5, this allowed for high variance in the individual decision trees.  Also, no bias was added to the decision tree classifiers by means of dimensionality reduction.  However, by combining these potentially overfitted trees into a random forest ensemble, the risk of overfitting was reduced.  Applying PCA with 1 component resulting in a random forest classifier with validation accuracy significantly worse than any of the other classifiers.<br><br>"
   ]
  },
  {
   "cell_type": "markdown",
   "metadata": {},
   "source": [
    "### Multi-Layer Perceptron"
   ]
  },
  {
   "cell_type": "markdown",
   "metadata": {},
   "source": [
    "$\\quad$ The last type of classification algorithm that we experimented with was a multi-layer perceptron.  Along with performing various levels of dimenstionality reduction using Principle Component Analysis, as done with the previous classifiers, we tuned the number of hidden layers in the multi-layer perceptron, the number of units in each layer of the multi-layer perceptron, and the L2 regularization strength, `alpha`.  These hyperparameter settings were tuned in a grid serach and we analyzed the performance of these settings by obtaining held out accuracy estimates using 5-fold cross validation.  In our grid search, we experimented with multi-layer perceptrons with 1 and 2 hidden layers and `alpha` values of 0.000001, 0.00001, 0.0001, and 0.001.  The multi-layer perceptron with a single hidden layer was tested with 1, 2, 5, 10, and 50 units in the hidden layer, while the multi-layer perceptron with a two hidden layers was tested with 1, 2, 5, 10, and 50 units in the first hidden layer and 1, 2, 5, 10, and 50 units in the second hidden layer for each unit count in the first layer.  Code for our multi-layer perceptron classifier and the associated results are provided below:"
   ]
  },
  {
   "cell_type": "code",
   "execution_count": 30,
   "metadata": {},
   "outputs": [
    {
     "name": "stdout",
     "output_type": "stream",
     "text": [
      "| Number of Components | Hidden Layer Sizes |   Alpha   | Validation Accuracy |\n",
      "|----------------------|--------------------|-----------|---------------------|\n",
      "|          1           |      (50, 10)      |   1e-06   | 0.6470588235294118  |\n",
      "|          2           |       (5, 5)       |   1e-06   | 0.8117647058823529  |\n",
      "|          3           |         50         |   1e-06   | 0.8117647058823529  |\n",
      "|          4           |         50         |   1e-06   | 0.8117647058823529  |\n",
      "|          5           |      (10, 2)       |   0.001   | 0.7529411764705882  |\n",
      "|          6           |      (10, 5)       |   1e-05   | 0.7058823529411765  |\n",
      "|          7           |       (5, 2)       |   1e-06   | 0.8705882352941177  |\n",
      "|        No PCA        |       (5, 2)       |   1e-06   | 0.8588235294117647  |\n"
     ]
    }
   ],
   "source": [
    "base_classifier = MLPClassifier(random_state=123, max_iter=1000)\n",
    "\n",
    "units = [1, 2, 5, 10, 50]\n",
    "oneples = [(w) for w in units]\n",
    "tuples = [(w1, w2) for w1 in units for w2 in units]\n",
    "\n",
    "params = [{'hidden_layer_sizes': oneples + tuples, 'alpha': [0.000001, 0.00001, 0.0001, 0.001]}]\n",
    "\n",
    "# this performs 5-fold cross-validation with the above classifier and parameter options\n",
    "gs_classifier = GridSearchCV(base_classifier, params, cv=5)\n",
    "\n",
    "# number of axes for principle component analysis\n",
    "numComponents = np.arange(1,8)\n",
    "\n",
    "validationAccuracies = []\n",
    "\n",
    "print(\"| Number of Components | Hidden Layer Sizes |   Alpha   | Validation Accuracy |\")\n",
    "print(\"|----------------------|--------------------|-----------|---------------------|\")\n",
    "for n in numComponents:\n",
    "    pca = PCA(n_components=n, random_state=123)\n",
    "    x_train_final = pca.fit_transform(x_train)\n",
    "    gs_classifier.fit(x_train_final, y_train)\n",
    "    validAcc = gs_classifier.best_score_\n",
    "    validationAccuracies.append(validAcc)\n",
    "    params = gs_classifier.best_params_\n",
    "    print(\"|{:^22}|{:^20}|{:^11}|{:^21}|\".format(n, str(params['hidden_layer_sizes']), params['alpha'], validAcc))\n",
    "    \n",
    "# Classifier without PCA\n",
    "gs_classifier.fit(x_train, y_train)\n",
    "validAcc_noPCA = gs_classifier.best_score_\n",
    "print(\"|{:^22}|{:^20}|{:^11}|{:^21}|\".format('No PCA', str(params['hidden_layer_sizes']), params['alpha'], validAcc_noPCA))"
   ]
  },
  {
   "cell_type": "code",
   "execution_count": 31,
   "metadata": {},
   "outputs": [
    {
     "data": {
      "image/png": "[encoded data removed]",
      "text/plain": [
       "<matplotlib.figure.Figure at 0x11430d9e8>"
      ]
     },
     "metadata": {},
     "output_type": "display_data"
    }
   ],
   "source": [
    "fig, ax = plt.subplots(nrows=1, ncols=1, figsize=(8,5))\n",
    "ax.plot(numComponents, validationAccuracies, color=\"steelblue\", marker='o', label='Validation Accuracy')\n",
    "ax.plot([0, 8], [validAcc_noPCA, validAcc_noPCA], color=\"firebrick\", label='Validation accuracy with no dimensionality reduction')\n",
    "ax.set_xlim([0.5,7.5])\n",
    "ax.set_xlabel(\"Number of Components in PCA\", fontsize=16)\n",
    "ax.set_ylabel(\"Neural Network Classifier Accuracy\", fontsize=16)\n",
    "ax.set_title(\"Classifier Accuracy vs. Number of Components\", fontsize=20)\n",
    "ax.grid(alpha=0.25)\n",
    "ax.legend(loc='lower right');"
   ]
  },
  {
   "cell_type": "markdown",
   "metadata": {},
   "source": [
    "The best hyperparameter settings and validation accuracies that were found during 5-fold cross validation for each number of components used in principle components analysis are shown below:\n",
    "\n",
    "| Number of Components | Hidden Layer Sizes |   Alpha   | Validation Accuracy |\n",
    "|----------------------|--------------------|-----------|---------------------|\n",
    "|          1           |      (50, 10)      |   1e-06   | 0.6470588235294118  |\n",
    "|          2           |       (5, 5)       |   1e-06   | 0.8117647058823529  |\n",
    "|          3           |         50         |   1e-06   | 0.8117647058823529  |\n",
    "|          4           |         50         |   1e-06   | 0.8117647058823529  |\n",
    "|          5           |      (10, 2)       |   0.001   | 0.7529411764705882  |\n",
    "|          6           |      (10, 5)       |   1e-05   | 0.7058823529411765  |\n",
    "|          7           |       (5, 2)       |   1e-06   | 0.8705882352941177  |\n",
    "|        No PCA        |       (5, 2)       |   1e-06   | 0.8588235294117647  |\n",
    "\n",
    "The best validation accuracy that we achieved with a multi-layer perceptron was when we used applied principle component analysis with 7 componrnts to our full feature set, 2 hidden layers (the first one with 5 units and the second with 2 units), and a L2 regularization strength, alpha, of 0.000001.  The multi-layer perceptron with these settings yielded a validation accuracy of 0.8706.<br><br>"
   ]
  },
  {
   "cell_type": "markdown",
   "metadata": {},
   "source": [
    "## Testing our Classifier"
   ]
  },
  {
   "cell_type": "markdown",
   "metadata": {},
   "source": [
    "$\\quad$ After experimenting with logistic regression, random forest, and multi-layer perceptron classifiers, we found the best classifier to be a random forest classifier with 10 decision trees in the ensemble, a maximum decision tree depth of 5, 1 for the minimum number of samples at the decision tree leaves, and trained without dimensionality reduction. This classifier achieved the best validation accuracy during 5-fold cross validation, 0.9059.  In the code cell below, the testing accuracy of this model is determined."
   ]
  },
  {
   "cell_type": "code",
   "execution_count": 82,
   "metadata": {},
   "outputs": [
    {
     "name": "stdout",
     "output_type": "stream",
     "text": [
      "Testing Accuracy of Best Classifier: 0.9905660377358491\n"
     ]
    }
   ],
   "source": [
    "# initialize random forest classifier with our best found hyperparameter settings\n",
    "bestClassifier = RandomForestClassifier(n_estimators=10, max_depth=5, min_samples_leaf=1)\n",
    "\n",
    "# train the random forest classifier on all of the training data\n",
    "bestClassifier.fit(x_train, y_train)\n",
    "\n",
    "x_all = dfData.iloc[0:, 0:7].values\n",
    "y_all = dfData.iloc[0:, 7].values\n",
    "\n",
    "# obtain accuracy on held out test data\n",
    "print(\"Testing Accuracy of Best Classifier: {}\".format(bestClassifier.score(x_all, y_all)))"
   ]
  },
  {
   "cell_type": "markdown",
   "metadata": {},
   "source": [
    "## Error Analysis"
   ]
  },
  {
   "cell_type": "markdown",
   "metadata": {},
   "source": [
    "$\\quad$ In this section, we examine that errors that the best classifier made when predicting the labels of the test data.  Please note that `random_state` was set so that our analysis would be consistent with the misclassifications upon re-running our code."
   ]
  },
  {
   "cell_type": "markdown",
   "metadata": {},
   "source": [
    "### Analyzing Misclassified Instances"
   ]
  },
  {
   "cell_type": "markdown",
   "metadata": {
    "collapsed": true
   },
   "source": [
    "In the code cell below, instances from the testing data that are misclassified and their assciated feature values are printed."
   ]
  },
  {
   "cell_type": "code",
   "execution_count": 38,
   "metadata": {},
   "outputs": [
    {
     "name": "stdout",
     "output_type": "stream",
     "text": [
      "Instance 8 misclassified\n",
      "\tInstance feature values:\n",
      "\tDistance (Miles): 13.06\n",
      "\tCalories: 534.0\n",
      "\tTime (minutes): 59.0\n",
      "\tAvg Speed: 13.3\n",
      "\tMax Speed: 26.4\n",
      "\tElev Gain: 1106.0\n",
      "\tElev Loss: 1109.0\n",
      "Predicted Label: 0\n",
      "True Label: 1\n",
      "\n",
      "Instance 11 misclassified\n",
      "\tInstance feature values:\n",
      "\tDistance (Miles): 21.34\n",
      "\tCalories: 841.0\n",
      "\tTime (minutes): 103.3\n",
      "\tAvg Speed: 12.4\n",
      "\tMax Speed: 30.2\n",
      "\tElev Gain: 3146.0\n",
      "\tElev Loss: 3128.0\n",
      "Predicted Label: 0\n",
      "True Label: 1\n",
      "\n"
     ]
    }
   ],
   "source": [
    "# initialize random forest classifier with our best found hyperparameter settings\n",
    "bestClassifier = RandomForestClassifier(n_estimators=10, max_depth=5, min_samples_leaf=1, random_state=321)\n",
    "\n",
    "# train the random forest classifier on all of the training data\n",
    "bestClassifier.fit(x_train, y_train)\n",
    "\n",
    "# print testing instances that have predicted labels different than true labels\n",
    "for x,y,i in zip(x_test, y_test, range(0, len(dfData))):\n",
    "    if bestClassifier.predict([x]) != y:\n",
    "        print(\"Instance {} misclassified\".format(i))\n",
    "        print(\"\\tInstance feature values:\")\n",
    "        for featureName, featureValue in zip(dfData.columns, x):\n",
    "            print(\"\\t{}: {}\".format(featureName, featureValue))\n",
    "        print(\"Predicted Label: {}\".format(bestClassifier.predict([x])[0]))\n",
    "        print(\"True Label: {}\\n\".format(y))"
   ]
  },
  {
   "cell_type": "markdown",
   "metadata": {},
   "source": [
    "Both instances that were incorrectly classified in our testing data are mountain bike rides that were misclassified as road bike rides.  The reason we suspect that instance 8 was misclassified was because of its feature values for 'Distance', 'Elev Gain', and 'Elev Loss'.  Looking through the data, there were several road bike rides that share similar feautre values for these features, so the instances was likely mislabeled to to these similarities.  A feature that does make this instance characteristic of a mountain bike ride is the 'Avg Speed' feature.  Average speed for mountain bike rides are commonly less than that of road bike rides.  The reason we suspect that instance 11 was misclassified was because of the 'Elev Gain' and 'Elev Loss' feature values.  The road bike ride instances in this dataset typically have larger values, such as the 3146 ft of 'Elev Gain' and 3128 ft of 'Elev Loss' that this mountain bike instance has.  Similar to instance 8 though, the 'Avg Speed' feature of instance 11 is low for a road bike ride, however this was missed by the classifier.  After looking at the misclassified instances from our testing dataset, it is evident that the classifier may have been able to perform better if it learned to assign more weight to the 'Avg Speed' feature."
   ]
  },
  {
   "cell_type": "markdown",
   "metadata": {},
   "source": [
    "### Analysis of Confusion Matrix"
   ]
  },
  {
   "cell_type": "code",
   "execution_count": 39,
   "metadata": {
    "collapsed": true
   },
   "outputs": [],
   "source": [
    "confusion = confusion_matrix(y_test, bestClassifier.predict(x_test))"
   ]
  },
  {
   "cell_type": "code",
   "execution_count": 100,
   "metadata": {},
   "outputs": [
    {
     "name": "stdout",
     "output_type": "stream",
     "text": [
      "Confusion Matrix:\n",
      "\n",
      "\t\t\tPredicted Bike Ride Type\n",
      "\t\t\tMountain\tRoad\n",
      "Actual Label\tMountain  10\t\t0\n",
      "\t\tRoad\t  2\t\t9\n",
      "\n"
     ]
    }
   ],
   "source": [
    "print(\"Confusion Matrix:\\n\")\n",
    "print(\"\\t\\t\\tPredicted Bike Ride Type\")\n",
    "print(\"\\t\\t\\tMountain\\tRoad\")\n",
    "for i, row in enumerate(confusion):\n",
    "    if i == 0:\n",
    "        print(\"Actual Label\\tMountain  {}\\t\\t{}\".format(row[0], row[1]))\n",
    "    else:\n",
    "        print(\"\\t\\tRoad\\t  {}\\t\\t{}\".format(row[0], row[1]))\n",
    "print()"
   ]
  },
  {
   "cell_type": "markdown",
   "metadata": {},
   "source": [
    "### Would we have benefitted from more data?"
   ]
  },
  {
   "cell_type": "markdown",
   "metadata": {},
   "source": [
    "$\\quad$ One of the concerns we had prior to starting this project was that we did not have a sufficient number of instances in our training set.  We were pleased to see the validation accuries and final test accuracies that we achieved after experimenting with various classifiers, but were still curious as to whether we would have benefitted from having more training data.  To help answer this question, we decided to plot a learning curve for our data using our final classifier."
   ]
  },
  {
   "cell_type": "code",
   "execution_count": 99,
   "metadata": {},
   "outputs": [
    {
     "data": {
      "image/png": "[encoded data removed]",
      "text/plain": [
       "<matplotlib.figure.Figure at 0x1148f8048>"
      ]
     },
     "metadata": {},
     "output_type": "display_data"
    }
   ],
   "source": [
    "bestClassifier = RandomForestClassifier(n_estimators=10, max_depth=5, min_samples_leaf=1)\n",
    "\n",
    "trainSize, trainAccuracy, validAccuracy = learning_curve(estimator=bestClassifier, X=x_train, y=y_train, train_sizes=np.linspace(0.1, 1.0, 10), cv=5)\n",
    "trainingMean = np.mean(trainAccuracy, axis=1)\n",
    "trainingSTDdeviation = np.std(trainAccuracy, axis=1)\n",
    "validationMean = np.mean(validAccuracy, axis=1)\n",
    "validationSTDdeviation = np.std(validAccuracy, axis=1)\n",
    "\n",
    "fig, ax = plt.subplots(nrows=1, ncols=1, figsize=(10,6))\n",
    "ax.plot(trainSize, trainingMean, color='steelblue', marker='o', label='Training Accuracy')\n",
    "ax.fill_between(trainSize, trainingMean+trainingSTDdeviation, trainingMean-trainingSTDdeviation, alpha=0.1, color='blue', label='STD Dev in Training Accuracy')\n",
    "ax.plot(trainSize, validationMean, color='firebrick', marker='o', label='Validation Accuracy')\n",
    "ax.fill_between(trainSize, validationMean+validationSTDdeviation, validationMean-validationSTDdeviation, alpha=0.1, color='red', label='STD Dev in Validation Accuracy')\n",
    "ax.set_xlabel('Number of Training Instances', size=14)\n",
    "ax.set_ylabel('Accuracy of Random Forest Classifier', size=14)\n",
    "ax.set_title(\"Classifier Accuracy when Trained on Different Number of Training Instances\", fontsize=16)\n",
    "ax.set_ylim([.6, 1.025])\n",
    "ax.legend(loc='lower right')\n",
    "ax.grid(alpha=0.25);"
   ]
  },
  {
   "cell_type": "markdown",
   "metadata": {},
   "source": [
    "Observing the Learning Curve above, the cureved for training and validation accuracy have yet to converge, indicating that our model have benefit from having more training instances.  Another notable aspect from this Learning Curve is the rate at which the two cureves are converging.  The slow convergence of these two lines leads us to believe that our model has a high variance.  High variance in our model is also illustrated by the amount of standard deviation in the validation accuracy, as validation accuracy appears to be highly dependent on which training instances were used in each fold of the 5-fold cross validation that we used.<br><br>"
   ]
  },
  {
   "cell_type": "code",
   "execution_count": null,
   "metadata": {
    "collapsed": true
   },
   "outputs": [],
   "source": []
  }
 ],
 "metadata": {
  "kernelspec": {
   "display_name": "Python 3",
   "language": "python",
   "name": "python3"
  },
  "language_info": {
   "codemirror_mode": {
    "name": "ipython",
    "version": 3
   },
   "file_extension": ".py",
   "mimetype": "text/x-python",
   "name": "python",
   "nbconvert_exporter": "python",
   "pygments_lexer": "ipython3",
   "version": "3.6.1"
  }
 },
 "nbformat": 4,
 "nbformat_minor": 2
}
